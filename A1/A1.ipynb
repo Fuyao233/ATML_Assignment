{
  "cells": [
    {
      "cell_type": "markdown",
      "metadata": {
        "id": "0gptEv_UkLPf"
      },
      "source": [
        "# Code template for hand-in on reconstruction attacks.\n",
        "\n",
        "Advanced Topics in Machine Learning, U. Copenhagen, fall 2024\n",
        "\n",
        "Created by Rasmus Pagh with minor edits by Thomas Christensen\n",
        "\n",
        "Queries on a hidden dataset x from {-1,+1}^100 can be made via the query method below\n",
        "which calls a web API that allows dot product queries with vectors in {-1,+1}^100.\n",
        "To protect data, Laplace noise is added to responses. Using the techniques you have\n",
        "seen in the lecture it is possible to partially reconstruct the dataset using 200 queries.\n",
        "To make sure that you get a unique challenge, choose any unique string as your challenge\n",
        "identifier. The web API will keep track of the number of queries made for each identifier."
      ]
    },
    {
      "cell_type": "markdown",
      "metadata": {
        "id": "dyLpL0gdnquz"
      },
      "source": [
        "# Support function for querying the web API"
      ]
    },
    {
      "cell_type": "code",
      "execution_count": 1,
      "metadata": {
        "id": "L1Mb8xGZkTPO"
      },
      "outputs": [],
      "source": [
        "import numpy as np\n",
        "import requests as rq\n",
        "\n",
        "# Retrieve answer to challenge for a given query\n",
        "def query(challenge_id, query_vector, submit=False):\n",
        "    # Only alphanumeric challenge_id and vextor entries in {-1,+1} are allowed:\n",
        "    assert(challenge_id.isalnum())\n",
        "    assert(np.max(np.minimum(np.abs(query_vector-1),np.abs(query_vector+1)))==0)\n",
        "\n",
        "    # if query array is 1d, make it 2d\n",
        "    if query_vector.ndim == 1:\n",
        "        query_vector = query_vector.reshape(1,-1)\n",
        "\n",
        "    payload = { 'challengeid': challenge_id, 'submit': submit,\n",
        "                'query': str(query_vector.tolist()) }\n",
        "    response = rq.post(\"https://baconbreaker.pythonanywhere.com/query\", data = payload).json()\n",
        "    if submit == False:\n",
        "        return np.array(eval(response['result']))\n",
        "    else:\n",
        "        return response['result']"
      ]
    },
    {
      "cell_type": "markdown",
      "metadata": {
        "id": "mgh9MtPmnyEl"
      },
      "source": [
        "# Making random queries to the API"
      ]
    },
    {
      "cell_type": "code",
      "execution_count": 2,
      "metadata": {
        "colab": {
          "base_uri": "https://localhost:8080/"
        },
        "id": "rACAhWmE9zkq",
        "outputId": "56510295-5822-4d72-a4ff-0fa5f90de0eb"
      },
      "outputs": [],
      "source": [
        "challenge_id = 'Fuyao' # identifier for hidden dataset\n",
        "n = 100 # number of entries in hidden dataset\n",
        "num_queries = 2*n # number of queries to be asked\n",
        "\n",
        "queries = np.random.choice([-1,+1], size=(num_queries,n)) # Set of random queries\n",
        "query_results = query(challenge_id, queries)\n",
        "\n",
        "# print(query_results)"
      ]
    },
    {
      "cell_type": "markdown",
      "metadata": {
        "id": "uiUoCqxtknZj"
      },
      "source": [
        "# Baseline reconstruction attack: Guess equals the best query\n",
        "\n",
        "Copy the notebook and replace with your attack. The first submission for a given challenge_id is stored on the server and on the leaderboard: http://baconbreaker.pythonanywhere.com/leaderboard/?n=100"
      ]
    },
    {
      "cell_type": "markdown",
      "metadata": {
        "id": "wBzhULS8lfJf"
      },
      "source": [
        "**Tip**: to solve a linear program you can use the following import:\n",
        "\n",
        "```\n",
        "from scipy.optimize import linprog\n",
        "```\n",
        "\n"
      ]
    },
    {
      "cell_type": "code",
      "execution_count": 3,
      "metadata": {},
      "outputs": [
        {
          "name": "stdout",
          "output_type": "stream",
          "text": [
            "Restricted license - for non-production use only - expires 2025-11-24\n",
            "Set parameter TimeLimit to value 30\n",
            "Gurobi Optimizer version 11.0.3 build v11.0.3rc0 (win64 - Windows 11.0 (22631.2))\n",
            "\n",
            "CPU model: AMD Ryzen 7 8845H w/ Radeon 780M Graphics, instruction set [SSE2|AVX|AVX2|AVX512]\n",
            "Thread count: 8 physical cores, 16 logical processors, using up to 16 threads\n",
            "\n",
            "Optimize a model with 0 rows, 100 columns and 0 nonzeros\n",
            "Model fingerprint: 0xf0896d10\n",
            "Model has 4771 quadratic objective terms\n",
            "Variable types: 0 continuous, 100 integer (100 binary)\n",
            "Coefficient statistics:\n",
            "  Matrix range     [0e+00, 0e+00]\n",
            "  Objective range  [4e+01, 5e+03]\n",
            "  QObjective range [3e+01, 2e+03]\n",
            "  Bounds range     [1e+00, 1e+00]\n",
            "  RHS range        [0e+00, 0e+00]\n",
            "Found heuristic solution: objective 94082.000000\n",
            "Found heuristic solution: objective 66546.000000\n",
            "Found heuristic solution: objective 33562.000000\n",
            "Found heuristic solution: objective 33546.000000\n",
            "Presolve time: 0.13s\n",
            "Presolved: 0 rows, 100 columns, 0 nonzeros\n",
            "Presolved model has 4771 quadratic objective terms\n",
            "Variable types: 0 continuous, 100 integer (100 binary)\n",
            "\n",
            "Root relaxation: objective 3.159236e+04, 102 iterations, 0.00 seconds (0.00 work units)\n",
            "\n",
            "    Nodes    |    Current Node    |     Objective Bounds      |     Work\n",
            " Expl Unexpl |  Obj  Depth IntInf | Incumbent    BestBd   Gap | It/Node Time\n",
            "\n",
            "     0     0 31592.3607    0   42 33546.0000 31592.3607  5.82%     -    0s\n",
            "H    0     0                    33538.000000 31592.3607  5.80%     -    0s\n",
            "     0     0 31620.0526    0   42 33538.0000 31620.0526  5.72%     -    0s\n",
            "     0     2 31620.5087    0   42 33538.0000 31620.5087  5.72%     -    0s\n",
            " 14797 10304 32654.8446   62  150 33538.0000 32654.8446  2.63%  29.9    5s\n",
            " 52135 37401 32654.8446   69  128 33538.0000 32654.8446  2.63%  28.3   10s\n",
            " 63411 45555 32654.8446   73  127 33538.0000 32654.8446  2.63%  28.0   16s\n",
            " 82779 57742 32654.8446   67  141 33538.0000 32654.8446  2.63%  29.3   20s\n",
            " 106286 73892 32654.8446   82  104 33538.0000 32654.8446  2.63%  30.6   25s\n",
            " 131290 89092 32654.8446   67  133 33538.0000 32654.8446  2.63%  31.1   30s\n",
            "\n",
            "Cutting planes:\n",
            "  Gomory: 94\n",
            "  Implied bound: 7\n",
            "  MIR: 273\n",
            "  StrongCG: 5\n",
            "  Flow cover: 270\n",
            "  RLT: 283\n",
            "  Relax-and-lift: 113\n",
            "\n",
            "Explored 132086 nodes (4105322 simplex iterations) in 30.05 seconds (53.29 work units)\n",
            "Thread count was 16 (of 16 available processors)\n",
            "\n",
            "Solution count 5: 33538 33546 33562 ... 94082\n",
            "\n",
            "Time limit reached\n",
            "Best objective 3.353800000000e+04, best bound 3.265800000000e+04, gap 2.6239%\n",
            "No optimal solution found.\n",
            "\n",
            "Reconstruction attack achieves fraction 0.8300000000000001 correct values\n"
          ]
        }
      ],
      "source": [
        "import gurobipy as gp\n",
        "from gurobipy import GRB\n",
        "import numpy as np\n",
        "\n",
        "model = gp.Model(\"miqp\")\n",
        "\n",
        "x = model.addVars(n, vtype=GRB.BINARY, name=\"x\")\n",
        "\n",
        "x_bin = {i: 2 * x[i] - 1 for i in range(n)}\n",
        "\n",
        "expr = gp.QuadExpr()\n",
        "\n",
        "for i in range(num_queries):\n",
        "    linear_expr = gp.LinExpr()\n",
        "    for j in range(n):\n",
        "        linear_expr += queries[i][j] * x_bin[j]\n",
        "    \n",
        "    expr += (linear_expr - query_results[i]) * (linear_expr - query_results[i])\n",
        "\n",
        "model.setObjective(expr, GRB.MINIMIZE)\n",
        "\n",
        "model.setParam('TimeLimit', 30)\n",
        "model.optimize()\n",
        "\n",
        "if model.status == GRB.OPTIMAL:\n",
        "    print(\"Optimal solution found:\")\n",
        "else:\n",
        "    print(\"No optimal solution found.\")\n",
        "\n",
        "solution = [x[i].x for i in range(n)]\n",
        "x_values = [1 if v > 0.5 else -1 for v in solution]\n",
        "# print(x_values)\n",
        "\n",
        "\n",
        "best_query_result = query(challenge_id, np.array(x_values), submit=True)\n",
        "print(f\"\\nReconstruction attack achieves fraction {(1 + best_query_result / n) / 2} correct values\")"
      ]
    },
    {
      "cell_type": "code",
      "execution_count": 4,
      "metadata": {
        "colab": {
          "base_uri": "https://localhost:8080/"
        },
        "id": "KNEVYeK5klgu",
        "outputId": "28db8286-ea7e-45a1-cefd-b70c3f77ac34"
      },
      "outputs": [],
      "source": [
        "# best_query_number = np.argmax(query_results)\n",
        "# best_query = queries[best_query_number]\n",
        "# best_query_result = query(challenge_id, best_query, submit=False)\n",
        "# print(f\"\\nReconstruction attack achieves fraction {(1 + best_query_result / n) / 2} correct values\")"
      ]
    },
    {
      "cell_type": "code",
      "execution_count": 5,
      "metadata": {},
      "outputs": [],
      "source": [
        "# challenge_id\n",
        "# def test(method, repeat_time=100):\n",
        "#     res = []\n",
        "#     for _ in range(repeat_time):\n",
        "#         queries = np.random.choice([-1,+1], size=(num_queries,n)) # Set of random queries\n",
        "#         query_results = query(challenge_id, queries)\n",
        "\n",
        "#         x = method(queries, query_results)\n",
        "#         # print(queries.shape, query_results.shape)\n",
        "#         # print(x)\n",
        "#         best_query_result = query(challenge_id, x, submit=True)\n",
        "#         print(f\"\\nReconstruction attack achieves fraction {(1 + best_query_result / n) / 2} correct values\")\n",
        "#         # print((1 + best_query_result / n) / 2)\n",
        "#         res.append((1 + best_query_result / n) / 2)\n",
        "#     return np.mean(res)"
      ]
    },
    {
      "cell_type": "code",
      "execution_count": 6,
      "metadata": {},
      "outputs": [],
      "source": [
        "# # # Method 1\n",
        "# def linear_regression(queries, query_results):\n",
        "#     X = queries\n",
        "#     x = np.linalg.inv(X.T @ X) @ X.T @ query_results\n",
        "#     x = np.sign(x)\n",
        "#     return x \n",
        "# # test(linear_regression)\n",
        "# challenge_id = 'Hero123'\n",
        "# queries = np.random.choice([-1,+1], size=(num_queries,n)) \n",
        "# query_results = query(challenge_id, queries)\n",
        "# x = linear_regression(queries, query_results)\n",
        "\n",
        "# best_query_result = query(challenge_id, x, submit=True)\n",
        "# print(f\"\\nReconstruction attack achieves fraction {(1 + best_query_result / n) / 2} correct values\")   \n"
      ]
    }
  ],
  "metadata": {
    "colab": {
      "provenance": []
    },
    "kernelspec": {
      "display_name": "Python 3",
      "name": "python3"
    },
    "language_info": {
      "codemirror_mode": {
        "name": "ipython",
        "version": 3
      },
      "file_extension": ".py",
      "mimetype": "text/x-python",
      "name": "python",
      "nbconvert_exporter": "python",
      "pygments_lexer": "ipython3",
      "version": "3.9.19"
    }
  },
  "nbformat": 4,
  "nbformat_minor": 0
}
